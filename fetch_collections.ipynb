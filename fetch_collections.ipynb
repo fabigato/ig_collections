{
 "cells": [
  {
   "cell_type": "code",
   "execution_count": null,
   "id": "a3f4df40-15ef-4697-a1b4-9c217b017632",
   "metadata": {},
   "outputs": [],
   "source": [
    "from instagrapi import Client\n",
    "from instagrapi.exceptions import LoginRequired\n",
    "import logging\n",
    "\n",
    "logger = logging.getLogger()\n",
    "\n",
    "USERNAME=\"\"\n",
    "PASSWORD=\"\"\n",
    "\n",
    "\n",
    "def login_user():\n",
    "    \"\"\"\n",
    "    Attempts to login to Instagram using either the provided session information\n",
    "    or the provided username and password.\n",
    "    \"\"\"\n",
    "\n",
    "    cl = Client()\n",
    "    session = cl.load_settings(\"session.json\")\n",
    "\n",
    "    login_via_session = False\n",
    "    login_via_pw = False\n",
    "\n",
    "    if session:\n",
    "        try:\n",
    "            cl.set_settings(session)\n",
    "            cl.login(USERNAME, PASSWORD)\n",
    "\n",
    "            # check if session is valid\n",
    "            try:\n",
    "                cl.get_timeline_feed()\n",
    "            except LoginRequired:\n",
    "                logger.info(\"Session is invalid, need to login via username and password\")\n",
    "\n",
    "                old_session = cl.get_settings()\n",
    "\n",
    "                # use the same device uuids across logins\n",
    "                cl.set_settings({})\n",
    "                cl.set_uuids(old_session[\"uuids\"])\n",
    "\n",
    "                cl.login(USERNAME, PASSWORD)\n",
    "            login_via_session = True\n",
    "        except Exception as e:\n",
    "            logger.info(\"Couldn't login user using session information: %s\" % e)\n",
    "\n",
    "    if not login_via_session:\n",
    "        try:\n",
    "            logger.info(\"Attempting to login via username and password. username: %s\" % USERNAME)\n",
    "            if cl.login(USERNAME, PASSWORD):\n",
    "                login_via_pw = True\n",
    "                cl.dump_settings(\"session.json\")\n",
    "        except Exception as e:\n",
    "            logger.info(\"Couldn't login user using username and password: %s\" % e)\n",
    "    if not login_via_pw and not login_via_session:\n",
    "        raise Exception(\"Couldn't login user with either password or session\")\n",
    "\n",
    "    return cl\n",
    "\n",
    "cl = login_user()\n",
    "cl.account_info().model_dump()"
   ]
  },
  {
   "cell_type": "code",
   "execution_count": null,
   "id": "73cc724f-e275-4866-bf2e-94b30000c64d",
   "metadata": {},
   "outputs": [],
   "source": [
    "collections = cl.collections()\n",
    "collections"
   ]
  },
  {
   "cell_type": "markdown",
   "id": "157774b8-977d-46f1-87ba-27fc806d37d5",
   "metadata": {},
   "source": [
    "**beware**, last_media_pk is misleading. collection_medias fetches all medias in the collection. Even the amount filter is only applied afterwards, so it won't optimize the query. last_media_pk is also a post-fetch filter, and it will cut the list the moment it encounters that pk. This means any non valid pk like 0 or \"\" will have no effect whatsoever"
   ]
  },
  {
   "cell_type": "code",
   "execution_count": null,
   "id": "f0b614e3-b4cb-425e-94f3-163df83b2cbf",
   "metadata": {},
   "outputs": [],
   "source": [
    "c_col = cl.collection_medias(collection_pk=\"18021223057218323\", amount=8161, last_media_pk=\"\")"
   ]
  },
  {
   "cell_type": "code",
   "execution_count": null,
   "id": "dd1fe31c-9c94-4be5-bdeb-97adc1bfa581",
   "metadata": {},
   "outputs": [],
   "source": [
    "import json, time, pydantic_core\n",
    "from datetime import date\n",
    "import instagrapi\n",
    "\n",
    "def serialize_collection(obj):\n",
    "    \"\"\"JSON serializer for objects not serializable by default json code\"\"\"\n",
    "\n",
    "    if isinstance(obj, date):\n",
    "        serial = obj.isoformat()\n",
    "        return serial\n",
    "\n",
    "    if isinstance(obj, pydantic_core._pydantic_core.Url):\n",
    "        return str(obj)\n",
    "\n",
    "    if isinstance(obj, instagrapi.types.UserShort):\n",
    "        return obj.__dict__"
   ]
  },
  {
   "cell_type": "code",
   "execution_count": null,
   "id": "a1cabe31-95d2-4632-a556-45723d201e4c",
   "metadata": {},
   "outputs": [],
   "source": [
    "with open('c_data.json', 'w') as f:\n",
    "    json.dump([m.__dict__ for m in c_col], f, default=serialize_collection)"
   ]
  },
  {
   "cell_type": "code",
   "execution_count": null,
   "id": "f255bc09-badb-4ec4-8295-314db22acd55",
   "metadata": {},
   "outputs": [],
   "source": [
    "with open('c_data.json', 'r') as f:\n",
    "    c_col = json.load(f)"
   ]
  },
  {
   "cell_type": "code",
   "execution_count": null,
   "id": "f39eb3bc-dd19-4018-b975-eb37ab461394",
   "metadata": {},
   "outputs": [],
   "source": [
    "c_names = [(c['user']['username'], c['user']['pk']) for c in c_col]"
   ]
  },
  {
   "cell_type": "code",
   "execution_count": null,
   "id": "370c84e5-1ba2-454a-9686-2cc71af1468c",
   "metadata": {},
   "outputs": [],
   "source": [
    "from collections import Counter\n",
    "c_names_counter = Counter(c_names)"
   ]
  },
  {
   "cell_type": "code",
   "execution_count": null,
   "id": "a4f7f1b7-1e77-499e-bd58-afeb09a5130c",
   "metadata": {},
   "outputs": [],
   "source": [
    "MIN_SAVED_MEDIAS = 1\n",
    "c_names_filtered = list((k, v) for (k, v) in c_names_counter.items() if v > MIN_SAVED_MEDIAS)"
   ]
  },
  {
   "cell_type": "code",
   "execution_count": null,
   "id": "dfd09cbe-25fc-414b-8fae-7fd22e604f0b",
   "metadata": {},
   "outputs": [],
   "source": [
    "c_names_filtered = set([(id, name) for ((name, id), count) in c_names_filtered])"
   ]
  },
  {
   "cell_type": "code",
   "execution_count": null,
   "id": "0424fdbb-c8e2-419e-b92a-43bb87c2689d",
   "metadata": {},
   "outputs": [],
   "source": [
    "cl.delay_range = [1, 3]"
   ]
  },
  {
   "cell_type": "code",
   "execution_count": null,
   "id": "3b8ff1f5-6597-478c-9f49-d17e87bdf490",
   "metadata": {},
   "outputs": [],
   "source": [
    "for id_, name in all_ids:\n",
    "    cl_tl.user_follow(id_)\n",
    "    print(f\"followed {name}\")"
   ]
  }
 ],
 "metadata": {
  "kernelspec": {
   "display_name": "Python 3 (ipykernel)",
   "language": "python",
   "name": "python3"
  },
  "language_info": {
   "codemirror_mode": {
    "name": "ipython",
    "version": 3
   },
   "file_extension": ".py",
   "mimetype": "text/x-python",
   "name": "python",
   "nbconvert_exporter": "python",
   "pygments_lexer": "ipython3",
   "version": "3.9.6"
  }
 },
 "nbformat": 4,
 "nbformat_minor": 5
}
