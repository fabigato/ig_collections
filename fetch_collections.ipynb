{
 "cells": [
  {
   "cell_type": "code",
   "execution_count": null,
   "id": "0a8a665b-1b52-40c6-ba16-59e910d89799",
   "metadata": {},
   "outputs": [],
   "source": [
    "from instagrapi import Client\n",
    "from collections import namedtuple\n",
    "USERNAME=\"\"\n",
    "PASSWORD=\"\"\n",
    "cl = Client()\n",
    "cl.login(USERNAME, PASSWORD)\n",
    "cl.account_info().dict()"
   ]
  },
  {
   "cell_type": "code",
   "execution_count": null,
   "id": "73cc724f-e275-4866-bf2e-94b30000c64d",
   "metadata": {},
   "outputs": [],
   "source": [
    "collections = cl.collections()\n",
    "collections"
   ]
  },
  {
   "cell_type": "markdown",
   "id": "157774b8-977d-46f1-87ba-27fc806d37d5",
   "metadata": {},
   "source": [
    "**beware**, last_media_pk is misleading. collection_medias fetches all medias in the collection. Even the amount filter is only applied afterwards, so it won't optimize the query. last_media_pk is also a post-fetch filter, and it will cut the list the moment it encounters that pk. This means any non valid pk like 0 or \"\" will have no effect whatsoever"
   ]
  },
  {
   "cell_type": "code",
   "execution_count": null,
   "id": "95ac666f-c7e3-47fb-a6e3-cc21c6c88ef4",
   "metadata": {},
   "outputs": [],
   "source": [
    "a_col = cl.collection_medias(collection_pk=\"18298255798131063\", amount=95, last_media_pk=0)"
   ]
  },
  {
   "cell_type": "code",
   "execution_count": null,
   "id": "f0b614e3-b4cb-425e-94f3-163df83b2cbf",
   "metadata": {},
   "outputs": [],
   "source": [
    "c_col = cl.collection_medias(collection_pk=\"18021223057218323\", amount=8161, last_media_pk=\"\")"
   ]
  },
  {
   "cell_type": "code",
   "execution_count": null,
   "id": "dd1fe31c-9c94-4be5-bdeb-97adc1bfa581",
   "metadata": {},
   "outputs": [],
   "source": [
    "import json, time, pydantic_core\n",
    "from datetime import date\n",
    "\n",
    "def serialize_collection(obj):\n",
    "    \"\"\"JSON serializer for objects not serializable by default json code\"\"\"\n",
    "\n",
    "    if isinstance(obj, date):\n",
    "        serial = obj.isoformat()\n",
    "        return serial\n",
    "\n",
    "    if isinstance(obj, pydantic_core._pydantic_core.Url):\n",
    "        return str(obj)\n",
    "\n",
    "with open('c_data.json', 'w') as f:\n",
    "    json.dump([m.__dict__ for m in c_col], f, default=serialize_collection)"
   ]
  }
 ],
 "metadata": {
  "kernelspec": {
   "display_name": "Python 3 (ipykernel)",
   "language": "python",
   "name": "python3"
  },
  "language_info": {
   "codemirror_mode": {
    "name": "ipython",
    "version": 3
   },
   "file_extension": ".py",
   "mimetype": "text/x-python",
   "name": "python",
   "nbconvert_exporter": "python",
   "pygments_lexer": "ipython3",
   "version": "3.9.6"
  }
 },
 "nbformat": 4,
 "nbformat_minor": 5
}
